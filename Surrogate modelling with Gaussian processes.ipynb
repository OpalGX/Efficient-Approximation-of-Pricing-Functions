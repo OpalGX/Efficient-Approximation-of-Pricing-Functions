{
 "cells": [
  {
   "cell_type": "markdown",
   "metadata": {},
   "source": [
    "# Gaussian process surrogate modelling "
   ]
  },
  {
   "cell_type": "markdown",
   "metadata": {},
   "source": [
    "## One-dimensional GP regression\n",
    "### Generating training data"
   ]
  },
  {
   "cell_type": "markdown",
   "metadata": {},
   "source": [
    "Below we generate a noiseless training data set for $f(x) = \\sin(x)$, specifically $f$ at uniform grid on $[0,L]$."
   ]
  },
  {
   "cell_type": "code",
   "execution_count": null,
   "metadata": {},
   "outputs": [],
   "source": [
    "import numpy as np\n",
    "import matplotlib.pyplot as plt\n",
    "from pylab import *\n",
    "\n",
    "# Generate noiseless training data where underlying f is sine.\n",
    "N_train = 20\n",
    "L = 20\n",
    "#X_train = np.zeros([N_train, D])\n",
    "X_train = np.linspace(0, L, N_train)\n",
    "\n",
    "Y_train = np.sin(X_train)\n",
    "\n",
    "\n",
    "# Plot training data\n",
    "fig, ax = subplots(1, 1, figsize = (10, 10))\n",
    "ax.plot(X_train, Y_train, '*', label = 'training points')\n",
    "ax.plot(np.linspace(0, L, 100), np.sin(np.linspace(0, L, 100)), 'k-', label = 'f')\n",
    "ax.set_xlabel(r'$X$', fontsize = 16)\n",
    "ax.set_ylabel(r'$f(X)$', fontsize = 16)\n",
    "ax.legend(loc = 'best')\n",
    "plt.show()"
   ]
  },
  {
   "cell_type": "markdown",
   "metadata": {},
   "source": [
    "### Fitting a GP through test points"
   ]
  },
  {
   "cell_type": "markdown",
   "metadata": {},
   "source": [
    "Below we choose a set of x-values, $\\textbf{X}^{*}$, for which we will generate random approximations of $f(\\textbf{X}^{*})$, based on a Gaussian process fitted to the training data created above."
   ]
  },
  {
   "cell_type": "code",
   "execution_count": null,
   "metadata": {},
   "outputs": [],
   "source": [
    "### Choosing X* for which I want to approximate f(X*).\n",
    "\n",
    "#X_star = np.array((3.2, 6.2, 12.5, 15.5))\n",
    "N_star = 7 # Number of test points\n",
    "X_star = L * np.random.rand(N_star) # Test points\n",
    "#N_star = X_star.shape[0]\n",
    "\n",
    "### Constructing covariance matrix, K, with elements given by k(x_1,x_2), the 'squared exponential' cov kernel.\n",
    "X = np.concatenate((X_train, X_star))\n",
    "#cov = lambda x_1, x_2: np.exp(-0.5 * np.transpose(x_1 - x_2) * (x_1 - x_2))    # squared exp. cov\n",
    "cov = lambda x_1, x_2: np.exp(-0.5 * abs((x_1 - x_2)))     # exp. cov\n",
    "\n",
    "N = N_train + N_star\n",
    "K = zeros([N, N])\n",
    "for i in range(N):\n",
    "    for j in range(N):\n",
    "        K[i, j] = cov(X[i], X[j])\n",
    "        \n",
    "# Decomposing K for calulation of mean and cov of f(X*).\n",
    "k = K[: N_train, : N_train] # k(X_train, X_train): covariance between training data and training data.\n",
    "k_star = K[ N_train :, : N_train] # k(X_star, X_train): covariance between training data and X*.\n",
    "k_starstar = K[N_train : , N_train : ] # k(X_star, X_star): covariance between X* and X*.\n",
    "\n",
    "# Calulation of mean and cov of f(X*).\n",
    "k_inv = np.linalg.inv(k) # Inverse of k need only be calculated once\n",
    "mean_f_x_star = k_star @ k_inv @ Y_train\n",
    "V = k_starstar - k_star @ k_inv @ k_star.T\n",
    "\n",
    "# Plot training data alongside generated f(X*).\n",
    "fig, ax = subplots(1, 1, figsize = (10, 10))\n",
    "ax.plot(X_train, Y_train, '*', label = 'training points')\n",
    "ax.plot(X_star, mean_f_x_star, 'go', label = 'E[f(X*)] (with error bars)')\n",
    "ax.plot(np.linspace(0, L, 100), np.sin(np.linspace(0, L, 100)), 'k-', label = 'f')\n",
    "ax.set_xlabel(r'$X$', fontsize = 16)\n",
    "ax.set_ylabel(r'$f(X)$', fontsize = 16)\n",
    "ax.errorbar(X_star, mean_f_x_star, yerr=np.diag(V), fmt='go')\n",
    "ax.legend(loc = 'best')\n",
    "plt.show()\n",
    "\n",
    "\n",
    "### Troubleshooting\n",
    "\n",
    "print(\"Condition number of k = \", np.linalg.cond(k))\n",
    "print(\"X* = \", X_star)\n",
    "print(\"E[f(X*)] = \",mean_f_x_star)\n",
    "print(\"V(f(X*)) = \", diag(V))\n",
    "print(\"True f(X*) = \", np.sin(X_star))\n",
    "# print(\"eigenvalues of k = \", np.linalg.eig(k)[0])\n",
    "# print(\"eigenvalues of V = \", np.linalg.eig(V)[0])\n",
    "# print(X)"
   ]
  },
  {
   "cell_type": "markdown",
   "metadata": {},
   "source": [
    "## Multi-dimensional GP regression\n",
    "### Generating training data"
   ]
  },
  {
   "cell_type": "markdown",
   "metadata": {},
   "source": [
    "We want to do GP regression on noiseless \"data\" from an underlying function, $f:\\mathbb{R}^{D}\\rightarrow\\mathbb{R}$.\n",
    "\n",
    "Here we create a uniform grid in $[0,1]^D$, take as an example $f(X) = \\exp\\left(-X^T X\\right)$, and evaluate $f$ at the grid points to create training data.\n",
    "\n",
    "***Make sure to restart kernel between running 1-D and multi-D codes.***"
   ]
  },
  {
   "cell_type": "code",
   "execution_count": null,
   "metadata": {},
   "outputs": [],
   "source": [
    "import numpy as np\n",
    "import matplotlib.pyplot as plt\n",
    "from pylab import *\n",
    "\n",
    "D = 2 # Number of dimensions.\n",
    "N = 20 # Number of points along each dimension in grid.\n",
    "\n",
    "### Create uniform grid points on [0,1]^D.\n",
    "\n",
    "X = np.linspace(np.zeros(D), np.ones(D), N) # Each column is list of grid-points for each dimension.\n",
    "Xs = np.hsplit(X, D) # Just for syntax: change array to tuple of vectors.\n",
    "XDarray = np.array(np.meshgrid(*Xs)) # Has shape (D, N, ..., N), w. D axes of length N.\n",
    "\n",
    "Yarray = np.zeros(np.repeat(N, D))\n",
    "#Yarray = np.exp(-(np.sum(XDarray, axis = 0)) ** 2) # Has shape (N, ..., N), w. D axes of length N.\n",
    "Yarray = np.exp(-np.sum(np.power(XDarray, 2), axis = 0)) # Has shape (N, ..., N), w. D axes of length N.\n",
    "#test2 = np.exp(-np.sum(np.power(XDarray, 2), axis = 0)) # Has shape (N, ..., N), w. D axes of length N.\n",
    "\n",
    "# f = lambda x: np.exp(-np.transposex.T @ x)\n",
    "# Yarray = f(XDarray)\n",
    "\n",
    "X_train = np.reshape(XDarray, (D, N ** D)) # Store coordinates of training points in a \"list\".\n",
    "Y_train = np.reshape(Yarray, N ** D) # Store training point function evaluations in a \"list\".\n",
    "N_train = N ** D # Total number of training points.\n"
   ]
  },
  {
   "cell_type": "markdown",
   "metadata": {},
   "source": [
    "### Fitting a GP through test points"
   ]
  },
  {
   "cell_type": "code",
   "execution_count": null,
   "metadata": {},
   "outputs": [],
   "source": [
    "#X_train, Y_train, N_train, D, N = train(D,N)\n",
    "\n",
    "\n",
    "# Choosing X* for which I want to approximate f(X*).\n",
    "N_star = 2\n",
    "X_star = np.random.rand(D, N_star)\n",
    "# X_star = np.ones((D, 1)) * 0.4321\n",
    "print(\"X* = \", X_star)\n",
    "\n",
    "# Constructing covariance matrix, K, with elements given by k(x_1,x_2), the 'squared exponential' cov kernel.\n",
    "Xs = np.concatenate((X_train, X_star), axis = 1)\n",
    "\n",
    "# cov = lambda x_1, x_2: np.exp(-0.5 * np.linalg.norm((x_1 - x_2), 2) ** 2)    # squared exp. cov\n",
    "cov = lambda x_1, x_2: np.exp(-0.5 * np.linalg.norm((x_1 - x_2), 2))     # exp. cov\n",
    "vCov = np.vectorize(cov)\n",
    "\n",
    "N = N_train + N_star\n",
    "K = np.zeros([N, N])\n",
    "      \n",
    "# for i in range(N):\n",
    "#     for j in range(N):\n",
    "#         K[i, j] = cov(Xs[:, i], Xs[:, j])\n",
    "\n",
    "for i  in range(N):\n",
    "    delta = Xs[:,i:(i+1)] - Xs\n",
    "    K[:,i] = np.exp(-np.sum(delta ** 2, 0) ** 0.5)\n",
    "        \n",
    "# Decomposing K for calulation of mean and cov of f(X*).\n",
    "k = K[: N_train, : N_train] # k(X_train, X_train): covariance between training data and training data.\n",
    "k_star = K[ N_train :, : N_train] # k(X_star, X_train): covariance between training data and X*.\n",
    "k_starstar = K[N_train : , N_train : ] # k(X_star, X_star): covariance between X* and X*.\n",
    "\n",
    "# Calulation of mean and cov of f(X*).\n",
    "k_inv = np.linalg.inv(k + 0 * (10 ** -11) * np.identity(N_train)) # Inverse of K need only be calculated once\n",
    "\n",
    "mean_f_x_star = k_star @ k_inv @ Y_train.T\n",
    "print(\"E[f(X*)] = \",mean_f_x_star)\n",
    "# V = k_starstar - k_star @ k_inv @ k_star.T\n",
    "# print(\"V(f(X*)) = \", diag(V))\n",
    "\n",
    "#print(\"condition number of K = \", np.linalg.cond(K))\n",
    "print(\"condition number of k = \", np.linalg.cond(k))"
   ]
  },
  {
   "cell_type": "code",
   "execution_count": null,
   "metadata": {},
   "outputs": [],
   "source": [
    "#Y_star = np.exp(-(np.sum(X_star, axis = 0) ** 2))\n",
    "Y_star = np.exp(-np.sum(np.power(X_star, 2), axis = 0)) \n",
    "\n",
    "print(\"True f(X*) = \", Y_star)\n",
    "RelError = np.mean(np.abs(mean_f_x_star - Y_star)/Y_star)\n",
    "print(RelError)"
   ]
  },
  {
   "cell_type": "markdown",
   "metadata": {},
   "source": [
    "This becomes numerically very unstable for both choices of covariance function as $N\\times D$ increases; however, the exponential covariance function performs better when the squared exponential covariance functions starts to struggle."
   ]
  },
  {
   "cell_type": "markdown",
   "metadata": {},
   "source": [
    "Implement sparse grid for training data. Look at decay of error for single test point while fixing dimension and refining training grid."
   ]
  },
  {
   "cell_type": "code",
   "execution_count": null,
   "metadata": {},
   "outputs": [],
   "source": [
    "#print(\"eigenvalues of k = \", np.linalg.eig(k)[0])"
   ]
  },
  {
   "cell_type": "markdown",
   "metadata": {},
   "source": [
    "## Convergence analysis"
   ]
  },
  {
   "cell_type": "code",
   "execution_count": 36,
   "metadata": {},
   "outputs": [],
   "source": [
    "import numpy as np\n",
    "import matplotlib.pyplot as plt\n",
    "plt.rcParams.update({'font.size': 17})\n",
    "from pylab import *\n",
    "import time\n",
    "\n",
    "def GP(D, Nd):\n",
    "    ### Create uniform grid points on [0,1]^D.\n",
    "\n",
    "    tStart = time.time()\n",
    "    X = np.linspace(np.zeros(D), np.ones(D), Nd) # Each column is list of grid-points for each dimension.\n",
    "    Xs = np.hsplit(X, D) # Just for syntax: change array to tuple of vectors.\n",
    "    XDarray = np.array(np.meshgrid(*Xs)) # Has shape (D, N,..., N), w. D axes of length Nd.\n",
    "\n",
    "    Yarray = np.zeros(np.repeat(Nd, D))\n",
    "    # Yarray = np.exp(-(np.sum(XDarray, axis = 0)) ** 2) # Has shape (N,..., N), w. D axes of length Nd.\n",
    "    Yarray = np.exp(-np.sum(np.power(XDarray, 2), axis = 0)) # Has shape (N, ..., N), w. D axes of length Nd.\n",
    "\n",
    "    X_train = np.reshape(XDarray, (D, Nd ** D)) # Store coordinates of training points in a \"list\".\n",
    "    Y_train = np.reshape(Yarray, Nd ** D) # Store training point function evaluations in a \"list\".\n",
    "    N_train = Nd ** D # Total number of training points.\n",
    "    \n",
    "    print(\"Gen Took {} min\".format((time.time()-tStart)/60.)); tStart=time.time();\n",
    "    # Choosing X* for which I want to approximate f(X*).\n",
    "    N_star = 20\n",
    "    X_star = np.random.rand(D, N_star)\n",
    "    # X_star = np.ones((D, 1)) * 0.4321\n",
    "    # print(\"X* = \", X_star)\n",
    "\n",
    "    # Constructing covariance matrix, K, with elements given by k(x_1,x_2), the 'squared exponential' cov kernel.\n",
    "    Xs = np.concatenate((X_train, X_star), axis = 1)\n",
    "\n",
    "    # cov = lambda x_1, x_2: np.exp(-0.5 * np.linalg.norm((x_1 - x_2), 2) ** 2)    # squared exp. cov\n",
    "    cov = lambda x_1, x_2: np.exp(-0.5 * np.linalg.norm((x_1 - x_2), 2))     # exp. cov\n",
    "\n",
    "    N = N_train + N_star\n",
    "    K = np.zeros([N, N])\n",
    "\n",
    "#     for i in range(N):\n",
    "#         for j in range(N):\n",
    "#             K[i, j] = cov(Xs[:, i], Xs[:, j])\n",
    "            \n",
    "    for i  in range(N):\n",
    "        delta = Xs[:,i:(i+1)] - Xs\n",
    "        K[:,i] = np.exp(-np.sum(delta ** 2, 0) ** 0.5)\n",
    "    \n",
    "    print(\"Cov Took {} min\".format((time.time()-tStart)/60.)); tStart=time.time();\n",
    "    \n",
    "    # Decomposing K for calulation of mean and cov of f(X*).\n",
    "    k = K[: N_train, : N_train] # k(X_train, X_train): covariance between training data and training data.\n",
    "    k_star = K[ N_train :, : N_train] # k(X_star, X_train): covariance between training data and X*.\n",
    "    k_starstar = K[N_train : , N_train : ] # k(X_star, X_star): covariance between X* and X*.\n",
    "\n",
    "    # Calulation of mean and cov of f(X*).\n",
    "    k_inv = np.linalg.inv(k + 1 * (10 ** -15) * np.identity(N_train)) # Inverse of K need only be calculated once\n",
    "\n",
    "    print(\"Inv Took {} min\".format((time.time()-tStart)/60.)); tStart=time.time();\n",
    "    \n",
    "    mean_f_x_star = k_star @ k_inv @ Y_train.T\n",
    "    #V = k_starstar - k_star @ k_inv @ k_star.T\n",
    "    \n",
    "    # Y_star = np.exp(-(np.sum(X_star, axis = 0) ** 2))\n",
    "    Y_star = np.exp(-np.sum(np.power(X_star, 2), axis = 0))\n",
    "    \n",
    "    RelError = np.mean(np.abs(mean_f_x_star - Y_star)/Y_star)\n",
    "    print(\"RE = \", RelError)\n",
    "    print(\"Mean of GP took {} min\".format((time.time()-tStart)/60.)); tStart=time.time();\n",
    "#     return(RelError, np.linalg.cond(K))\n",
    "    return(RelError)"
   ]
  },
  {
   "cell_type": "markdown",
   "metadata": {},
   "source": [
    "### Convergence in 1D"
   ]
  },
  {
   "cell_type": "code",
   "execution_count": 42,
   "metadata": {},
   "outputs": [
    {
     "name": "stdout",
     "output_type": "stream",
     "text": [
      "Gen Took 9.059906005859375e-06 min\n",
      "Cov Took 0.00036440292994181317 min\n",
      "Inv Took 7.839600245157878e-05 min\n",
      "RE =  9.989377501630066e-07\n",
      "Mean of GP took 7.3552131652832035e-06 min\n",
      "Gen Took 1.2139479319254557e-05 min\n",
      "Cov Took 0.0007165710131327312 min\n",
      "Inv Took 0.0003942688306172689 min\n",
      "RE =  2.4890430170410355e-07\n",
      "Mean of GP took 7.3909759521484375e-06 min\n",
      "Gen Took 7.74065653483073e-06 min\n",
      "Cov Took 0.0008055448532104492 min\n",
      "Inv Took 0.0008687853813171386 min\n",
      "RE =  1.229599384101929e-07\n",
      "Mean of GP took 1.4038880666097005e-05 min\n",
      "Gen Took 8.153915405273438e-06 min\n",
      "Cov Took 0.0015043536822001138 min\n",
      "Inv Took 0.0018772443135579428 min\n",
      "RE =  6.282164697442436e-08\n",
      "Mean of GP took 2.6516119639078776e-05 min\n",
      "Gen Took 8.738040924072265e-06 min\n",
      "Cov Took 0.0021811445554097493 min\n",
      "Inv Took 0.0034055193265279133 min\n",
      "RE =  4.482927879027422e-08\n",
      "Mean of GP took 4.54862912495931e-05 min\n",
      "Entire code took 0.012416799863179525 min: \n"
     ]
    }
   ],
   "source": [
    "totStart = time.time();\n",
    "D = 1\n",
    "ns = np.arange(400,2400,400)\n",
    "nn = ns.size\n",
    "\n",
    "RelError = np.zeros(nn)\n",
    "variance = np.zeros(nn)\n",
    "condK = np.zeros(nn)\n",
    "\n",
    "for i in range(nn):\n",
    "    # RelError[i], condK[i] = GP(D, ns[i])\n",
    "    RelError[i] = GP(D, ns[i])\n",
    "print(\"Entire code took {} min: \".format((time.time()-totStart)/60.));"
   ]
  },
  {
   "cell_type": "code",
   "execution_count": 38,
   "metadata": {},
   "outputs": [
    {
     "data": {
      "image/png": "[encoded data removed]",
      "text/plain": [
       "<Figure size 576x504 with 1 Axes>"
      ]
     },
     "metadata": {
      "needs_background": "light"
     },
     "output_type": "display_data"
    }
   ],
   "source": [
    "fig, axs = plt.subplots(1, 1, figsize=(8, 7))\n",
    "# axs = axs.ravel()\n",
    "\n",
    "axs.loglog(ns**D, RelError, 'x', label='Relative error')\n",
    "axs.loglog(ns**D, 1e-1 * (ns**D)**-2., ':', label='n^(-2)')\n",
    "axs.legend() # turn on legend\n",
    "axs.set_title('D = '+str(D))\n",
    "\n",
    "# axs[0].loglog(ns**D, RelError, 'x', label='Relative error')\n",
    "# axs[0].loglog(ns**D, 1e-1 * (ns**D)**-1., ':')\n",
    "# axs[0].legend() # turn on legend\n",
    "# axs[0].set_title('D = '+str(D))\n",
    "\n",
    "# axs[1].loglog(ns**D, condK, 'x', label='Cond(K)')\n",
    "# axs[1].legend() # turn on legend\n",
    "# axs[1].set_title('D = '+str(D))\n",
    "\n",
    "plt.show()"
   ]
  },
  {
   "cell_type": "markdown",
   "metadata": {},
   "source": [
    "### Convergence in 2D"
   ]
  },
  {
   "cell_type": "code",
   "execution_count": 43,
   "metadata": {},
   "outputs": [
    {
     "name": "stdout",
     "output_type": "stream",
     "text": [
      "Gen Took 2.4120012919108074e-05 min\n",
      "Cov Took 5.5738290150960286e-05 min\n",
      "Inv Took 4.275639851888021e-06 min\n",
      "RE =  0.1854475315005444\n",
      "Mean of GP took 6.9340070088704424e-06 min\n",
      "Gen Took 2.2792816162109374e-05 min\n",
      "Cov Took 4.1421254475911455e-05 min\n",
      "Inv Took 8.69433085123698e-06 min\n",
      "RE =  0.008301306619844953\n",
      "Mean of GP took 4.839897155761719e-06 min\n",
      "Gen Took 2.400477727254232e-05 min\n",
      "Cov Took 3.266334533691406e-05 min\n",
      "Inv Took 8.952617645263671e-06 min\n",
      "RE =  0.0017861113033395624\n",
      "Mean of GP took 7.470448811848958e-06 min\n",
      "Gen Took 1.5572706858317056e-05 min\n",
      "Cov Took 4.306634267171224e-05 min\n",
      "Inv Took 9.040037790934244e-06 min\n",
      "RE =  0.0009180107131878297\n",
      "Mean of GP took 5.666414896647135e-06 min\n",
      "Gen Took 7.351239522298177e-06 min\n",
      "Cov Took 6.545384724934896e-05 min\n",
      "Inv Took 9.0638796488444e-06 min\n",
      "RE =  0.0006213303965669688\n",
      "Mean of GP took 5.145867665608724e-06 min\n",
      "Gen Took 6.369749704996744e-06 min\n",
      "Cov Took 6.542205810546874e-05 min\n",
      "Inv Took 1.0101000467936198e-05 min\n",
      "RE =  0.000711472712780649\n",
      "Mean of GP took 3.345807393391927e-06 min\n",
      "Gen Took 4.5299530029296875e-06 min\n",
      "Cov Took 9.542306264241537e-05 min\n",
      "Inv Took 1.4372666676839192e-05 min\n",
      "RE =  0.0007208197461359682\n",
      "Mean of GP took 5.074342091878256e-06 min\n",
      "Gen Took 9.330113728841146e-06 min\n",
      "Cov Took 0.00010932286580403646 min\n",
      "Inv Took 2.63214111328125e-05 min\n",
      "RE =  0.00023444070687338517\n",
      "Mean of GP took 5.082289377848307e-06 min\n",
      "Gen Took 9.107589721679688e-06 min\n",
      "Cov Took 0.00021245479583740235 min\n",
      "Inv Took 3.931919733683268e-05 min\n",
      "RE =  0.00013270383047982376\n",
      "Mean of GP took 5.861123402913411e-06 min\n",
      "Gen Took 1.024007797241211e-05 min\n",
      "Cov Took 0.0001863559087117513 min\n",
      "Inv Took 7.56065050760905e-05 min\n",
      "RE =  0.00017201168134080785\n",
      "Mean of GP took 7.279713948567709e-06 min\n",
      "Gen Took 1.0887781778971354e-05 min\n",
      "Cov Took 0.00036307970682779945 min\n",
      "Inv Took 8.511543273925781e-05 min\n",
      "RE =  0.00016083312270854285\n",
      "Mean of GP took 8.58306884765625e-06 min\n",
      "Gen Took 8.96453857421875e-06 min\n",
      "Cov Took 0.0002688924471537272 min\n",
      "Inv Took 0.00013222297032674155 min\n",
      "RE =  7.992523822082027e-05\n",
      "Mean of GP took 6.639957427978516e-06 min\n",
      "Gen Took 8.881092071533203e-06 min\n",
      "Cov Took 0.00035143693288167317 min\n",
      "Inv Took 0.00016162792841593424 min\n",
      "RE =  6.387031571639499e-05\n",
      "Mean of GP took 8.841355641682943e-06 min\n",
      "Gen Took 8.777777353922527e-06 min\n",
      "Cov Took 0.00043868223826090496 min\n",
      "Inv Took 0.000301667054494222 min\n",
      "RE =  8.640903639983062e-05\n",
      "Mean of GP took 8.952617645263671e-06 min\n",
      "Gen Took 9.218851725260416e-06 min\n",
      "Cov Took 0.0006224393844604492 min\n",
      "Inv Took 0.0003695805867513021 min\n",
      "RE =  4.1986171737023224e-05\n",
      "Mean of GP took 1.2139479319254557e-05 min\n",
      "Gen Took 9.111563364664714e-06 min\n",
      "Cov Took 0.0006893833478291829 min\n",
      "Inv Took 0.0007266441980997722 min\n",
      "RE =  2.661629162153645e-05\n",
      "Mean of GP took 1.1893113454182943e-05 min\n",
      "Gen Took 9.218851725260416e-06 min\n",
      "Cov Took 0.000868825117746989 min\n",
      "Inv Took 0.0008829911549886068 min\n",
      "RE =  3.112442175741387e-05\n",
      "Mean of GP took 1.5727678934733073e-05 min\n",
      "Gen Took 9.389718373616536e-06 min\n",
      "Cov Took 0.0011220137278238932 min\n",
      "Inv Took 0.0009726723035176595 min\n",
      "RE =  7.450921995321185e-05\n",
      "Mean of GP took 1.6566117604573568e-05 min\n",
      "Gen Took 8.817513783772787e-06 min\n",
      "Cov Took 0.0015287995338439941 min\n",
      "Inv Took 0.0015367428461710612 min\n",
      "RE =  8.799902881126426e-05\n",
      "Mean of GP took 2.1274884541829427e-05 min\n",
      "Gen Took 9.751319885253906e-06 min\n",
      "Cov Took 0.001601727803548177 min\n",
      "Inv Took 0.0020585417747497558 min\n",
      "RE =  3.494481563857509e-05\n",
      "Mean of GP took 2.541542053222656e-05 min\n",
      "Gen Took 1.049041748046875e-05 min\n",
      "Cov Took 0.002067081133524577 min\n",
      "Inv Took 0.0036236921946207683 min\n",
      "RE =  1.9582270319028514e-05\n",
      "Mean of GP took 5.486011505126953e-05 min\n",
      "Gen Took 1.245737075805664e-05 min\n",
      "Cov Took 0.0025980075200398764 min\n",
      "Inv Took 0.0049610058466593426 min\n",
      "RE =  1.0326612518089122e-05\n",
      "Mean of GP took 3.573099772135417e-05 min\n",
      "Gen Took 1.0569890340169271e-05 min\n",
      "Cov Took 0.003421632448832194 min\n",
      "Inv Took 0.005061026414235433 min\n",
      "RE =  4.5553829948083826e-05\n",
      "Mean of GP took 4.044771194458008e-05 min\n",
      "Gen Took 1.0617574055989583e-05 min\n",
      "Cov Took 0.0034480611483256023 min\n",
      "Inv Took 0.005708014965057373 min\n",
      "RE =  4.628733857090025e-05\n",
      "Mean of GP took 4.6984354654947916e-05 min\n",
      "Gen Took 1.1305014292399088e-05 min\n",
      "Cov Took 0.003945287068684896 min\n",
      "Inv Took 0.006798978646596273 min\n",
      "RE =  1.3709167025943962e-05\n",
      "Mean of GP took 8.84095827738444e-05 min\n",
      "Gen Took 1.627206802368164e-05 min\n",
      "Cov Took 0.00577617088953654 min\n",
      "Inv Took 0.008271447817484538 min\n",
      "RE =  2.3137397225680028e-05\n",
      "Mean of GP took 6.250937779744466e-05 min\n",
      "Gen Took 1.1320908864339193e-05 min\n",
      "Cov Took 0.005101907253265381 min\n",
      "Inv Took 0.009771287441253662 min\n",
      "RE =  1.706636447650819e-05\n",
      "Mean of GP took 7.319450378417969e-05 min\n",
      "Gen Took 1.1058648427327474e-05 min\n",
      "Cov Took 0.00606006383895874 min\n",
      "Inv Took 0.012116591135660807 min\n",
      "RE =  1.0531554210423589e-05\n",
      "Mean of GP took 8.369684219360352e-05 min\n",
      "Gen Took 1.1138121287027995e-05 min\n",
      "Cov Took 0.00699385404586792 min\n",
      "Inv Took 0.01436786651611328 min\n",
      "RE =  1.1499124376481251e-05\n",
      "Mean of GP took 9.34918721516927e-05 min\n",
      "Gen Took 1.2099742889404297e-05 min\n",
      "Cov Took 0.007513876756032308 min\n",
      "Inv Took 0.017783371607462566 min\n",
      "RE =  1.0342453785447582e-05\n",
      "Mean of GP took 0.00014642874399820963 min\n"
     ]
    }
   ],
   "source": [
    "totStart = time.time();\n",
    "D = 2\n",
    "ns = np.arange(2, 62, 2)\n",
    "nn = ns.size\n",
    "\n",
    "RelError = np.zeros(nn)\n",
    "variance = np.zeros(nn)\n",
    "condK = np.zeros(nn)\n",
    "\n",
    "for i in range(nn):\n",
    "    # RelError[i], condK[i] = GP(D, ns[i])\n",
    "    RelError[i] = GP(D, ns[i])\n",
    "print(\"Entire code took {} min: \".format((time.time()-totStart)/60.));"
   ]
  },
  {
   "cell_type": "code",
   "execution_count": 55,
   "metadata": {},
   "outputs": [
    {
     "data": {
      "image/png": "[encoded data removed]",
      "text/plain": [
       "<Figure size 576x504 with 1 Axes>"
      ]
     },
     "metadata": {
      "needs_background": "light"
     },
     "output_type": "display_data"
    }
   ],
   "source": [
    "fig, axs = plt.subplots(1, 1, figsize=(8, 7))\n",
    "# axs = axs.ravel()\n",
    "\n",
    "axs.loglog(ns**D, RelError, 'x', label='Relative error')\n",
    "axs.loglog(ns**D, 2*1e-1 * (ns**D)**-1.3, ':', label='n^(-1.3)')\n",
    "axs.legend() # turn on legend\n",
    "axs.set_title('D = '+str(D))\n",
    "\n",
    "# axs[0].loglog(ns**D, RelError, 'x', label='Relative error')\n",
    "# axs[0].loglog(ns**D, 1e-1 * (ns**D)**-1., ':')\n",
    "# axs[0].legend() # turn on legend\n",
    "# axs[0].set_title('D = '+str(D))\n",
    "\n",
    "# axs[1].loglog(ns**D, condK, 'x', label='Cond(K)')\n",
    "# axs[1].legend() # turn on legend\n",
    "# axs[1].set_title('D = '+str(D))\n",
    "\n",
    "plt.show()"
   ]
  },
  {
   "cell_type": "markdown",
   "metadata": {},
   "source": [
    "### Convergence in 3D"
   ]
  },
  {
   "cell_type": "code",
   "execution_count": null,
   "metadata": {},
   "outputs": [],
   "source": [
    "D = 3\n",
    "ns = np.arange(1, 16, 1)\n",
    "nn = ns.size\n",
    "\n",
    "RelError = np.zeros(nn)\n",
    "variance = np.zeros(nn)\n",
    "condK = np.zeros(nn)\n",
    "\n",
    "for i in range(nn):\n",
    "    # RelError[i], condK[i] = GP(D, ns[i])\n",
    "    RelError[i] = GP(D, ns[i])"
   ]
  },
  {
   "cell_type": "code",
   "execution_count": null,
   "metadata": {},
   "outputs": [],
   "source": [
    "fig, axs = plt.subplots(1, 1, figsize=(8, 7))\n",
    "# axs = axs.ravel()\n",
    "\n",
    "axs.loglog(ns**D, RelError, 'x', label='Relative error')\n",
    "axs.loglog(ns**D, 1e-1 * (ns**D)**-.5, ':', label='n^(-2)')\n",
    "axs.legend() # turn on legend\n",
    "axs.set_title('D = '+str(D))\n",
    "\n",
    "# axs[0].loglog(ns**D, RelError, 'x', label='Relative error')\n",
    "# axs[0].loglog(ns**D, 1e-1 * (ns**D)**-1., ':')\n",
    "# axs[0].legend() # turn on legend\n",
    "# axs[0].set_title('D = '+str(D))\n",
    "\n",
    "# axs[1].loglog(ns**D, condK, 'x', label='Cond(K)')\n",
    "# axs[1].legend() # turn on legend\n",
    "# axs[1].set_title('D = '+str(D))\n",
    "\n",
    "plt.show()"
   ]
  },
  {
   "cell_type": "code",
   "execution_count": 3,
   "metadata": {},
   "outputs": [
    {
     "name": "stdout",
     "output_type": "stream",
     "text": [
      "Gen Took 4.269679387410482e-05 min\n",
      "Cov Took 6.0113271077473957e-05 min\n",
      "Inv Took 8.031129837036133e-05 min\n",
      "RE =  0.6477652064291516\n",
      "Mean of GP took 4.800160725911458e-06 min\n",
      "Gen Took 1.644293467203776e-05 min\n",
      "Cov Took 3.911654154459635e-05 min\n",
      "Inv Took 0.000484776496887207 min\n",
      "RE =  0.21007611084752295\n",
      "Mean of GP took 2.0523866017659504e-05 min\n",
      "Gen Took 1.180569330851237e-05 min\n",
      "Cov Took 0.0002012054125467936 min\n",
      "Inv Took 9.676615397135417e-05 min\n",
      "RE =  0.020106831813741555\n",
      "Mean of GP took 5.95251719156901e-06 min\n",
      "Gen Took 1.0538101196289063e-05 min\n",
      "Cov Took 0.0009429375330607096 min\n",
      "Inv Took 0.0007690350214640299 min\n",
      "RE =  0.005944291547760806\n",
      "Mean of GP took 3.114144007364909e-05 min\n",
      "Gen Took 1.087188720703125e-05 min\n",
      "Cov Took 0.0067059000333150225 min\n",
      "Inv Took 0.012047266960144043 min\n",
      "RE =  0.0031402151039930087\n",
      "Mean of GP took 0.00014585256576538086 min\n",
      "Gen Took 1.877148946126302e-05 min\n",
      "Cov Took 0.037692431608835855 min\n",
      "Inv Took 0.13631624778111776 min\n",
      "RE =  0.0016225594881355684\n",
      "Mean of GP took 0.0009399811426798502 min\n",
      "Gen Took 5.2197774251302084e-05 min\n",
      "Cov Took 0.104110848903656 min\n",
      "Inv Took 2.1842213034629823 min\n",
      "RE =  0.001021154277159895\n",
      "Mean of GP took 0.005250716209411621 min\n"
     ]
    }
   ],
   "source": [
    "D = 5\n",
    "ns = np.arange(1, 8, 1)\n",
    "nn = ns.size\n",
    "\n",
    "RelError = np.zeros(nn)\n",
    "variance = np.zeros(nn)\n",
    "condK = np.zeros(nn)\n",
    "\n",
    "for i in range(nn):\n",
    "    # RelError[i], condK[i] = GP(D, ns[i])\n",
    "    RelError[i] = GP(D, ns[i])"
   ]
  },
  {
   "cell_type": "code",
   "execution_count": 6,
   "metadata": {},
   "outputs": [
    {
     "data": {
      "image/png": "[encoded data removed]",
      "text/plain": [
       "<Figure size 576x504 with 1 Axes>"
      ]
     },
     "metadata": {
      "needs_background": "light"
     },
     "output_type": "display_data"
    }
   ],
   "source": [
    "fig, axs = plt.subplots(1, 1, figsize=(8, 7))\n",
    "# axs = axs.ravel()\n",
    "\n",
    "axs.loglog(ns**D, RelError, 'x', label='Relative error')\n",
    "axs.loglog(ns**D, 1e-1 * (ns**D)**-.5, ':', label='n^(-2)')\n",
    "axs.legend() # turn on legend\n",
    "axs.set_title('D = '+str(D))\n",
    "\n",
    "# axs[0].loglog(ns**D, RelError, 'x', label='Relative error')\n",
    "# axs[0].loglog(ns**D, 1e-1 * (ns**D)**-1., ':')\n",
    "# axs[0].legend() # turn on legend\n",
    "# axs[0].set_title('D = '+str(D))\n",
    "\n",
    "# axs[1].loglog(ns**D, condK, 'x', label='Cond(K)')\n",
    "# axs[1].legend() # turn on legend\n",
    "# axs[1].set_title('D = '+str(D))\n",
    "\n",
    "plt.show()"
   ]
  },
  {
   "cell_type": "code",
   "execution_count": null,
   "metadata": {},
   "outputs": [],
   "source": []
  }
 ],
 "metadata": {
  "kernelspec": {
   "display_name": "Python 3",
   "language": "python",
   "name": "python3"
  },
  "language_info": {
   "codemirror_mode": {
    "name": "ipython",
    "version": 3
   },
   "file_extension": ".py",
   "mimetype": "text/x-python",
   "name": "python",
   "nbconvert_exporter": "python",
   "pygments_lexer": "ipython3",
   "version": "3.7.4"
  }
 },
 "nbformat": 4,
 "nbformat_minor": 2
}
